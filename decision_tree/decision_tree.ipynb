{
 "cells": [
  {
   "cell_type": "code",
   "execution_count": 6,
   "id": "cd612e07",
   "metadata": {},
   "outputs": [],
   "source": [
    "import pandas as pd\n",
    "import numpy as np\n",
    "import matplotlib.pyplot as plt\n",
    "import tensorflow as tf\n",
    "\n",
    "import csv\n",
    "from sklearn.feature_extraction import DictVectorizer\n",
    "from sklearn import preprocessing\n",
    "from sklearn import tree"
   ]
  },
  {
   "cell_type": "markdown",
   "id": "8f5bc6aa",
   "metadata": {},
   "source": [
    "## 数据读取和数据清洗"
   ]
  },
  {
   "cell_type": "code",
   "execution_count": null,
   "id": "971a4cb1",
   "metadata": {},
   "outputs": [],
   "source": [
    "film_data = open('tree_data.csv','rt')\n",
    "reader = csv.reader(film_data)\n",
    "\n",
    "headers = next(reader)\n",
    "# print(headers)\n",
    "\n",
    "feature_list = [] # 特征值\n",
    "result_list = [] # 结果（最后一列）\n",
    "\n",
    "for row in reader:\n",
    "    result_list.append(row[-1])\n",
    "\n",
    "    # 去掉首位两列，特征集只保留'type','country' , 'gross'，将headers与row压缩成一个字典\n",
    "    feature_list.append(dict(zip(headers[1:-1],row[1:-1])))"
   ]
  },
  {
   "cell_type": "markdown",
   "id": "de848ec2",
   "metadata": {},
   "source": [
    "## 数据清洗"
   ]
  },
  {
   "cell_type": "code",
   "execution_count": null,
   "id": "26c7cb38",
   "metadata": {},
   "outputs": [],
   "source": [
    "vec = DictVectorizer() # 将 dict类型的list数据转换成 numpy array（特征向量化）\n",
    "dummyX = vec.fit_transform(feature_list).toarray() # 做扁平化处理\n",
    "dummyY = preprocessing.LabelBinarizer().fit_transform(result_list)\n",
    "# print(dummyX)\n",
    "# country  |  gnoss | type\n",
    "# 0,0,0,0  | 0,0  | 0,0,0\n",
    "# print(dummyY)\n"
   ]
  },
  {
   "cell_type": "markdown",
   "id": "7e146cf4",
   "metadata": {},
   "source": [
    "## 模型训练"
   ]
  },
  {
   "cell_type": "code",
   "execution_count": null,
   "id": "7a0ece54",
   "metadata": {},
   "outputs": [],
   "source": [
    "clf = tree.DecisionTreeClassifier(criterion='entropy',random_state=0)\n",
    "clf = clf.fit(dummyX,dummyY)\n",
    "print('clf=',str(clf))"
   ]
  },
  {
   "cell_type": "markdown",
   "id": "d79b7052",
   "metadata": {},
   "source": [
    "# 数据可视化 \n"
   ]
  },
  {
   "cell_type": "code",
   "execution_count": null,
   "id": "e74c50b6",
   "metadata": {
    "scrolled": true
   },
   "outputs": [],
   "source": [
    "import pydotplus\n",
    "dot_data = tree.export_graphviz(clf,\n",
    "                                feature_names=vec.get_feature_names(),\n",
    "                                filled=True,\n",
    "                                rounded=True, # 用圆角框\n",
    "                                special_characters=True,\n",
    "                                out_file=None)\n",
    "graph = pydotplus.graph_from_dot_data(dot_data)\n",
    "graph.write_pdf('film.pdf')\n"
   ]
  },
  {
   "cell_type": "markdown",
   "id": "4e897764",
   "metadata": {},
   "source": [
    "## 开始预测"
   ]
  },
  {
   "cell_type": "code",
   "execution_count": null,
   "id": "0beb2d9d",
   "metadata": {},
   "outputs": [],
   "source": [
    "A = ([[e,e,0,1,0,1,0,1,0]])#日本(4)-低票房(2)-动画片(3)\n",
    "# B = ([[e，0，1，0，0，1，0，1，0]])#法国(4)-低票房(2)-动画片(3))\n",
    "# C = ([[1，0，0，0，1，0， 1，0，0]]）#美国(4)-高票房(2)-动作片(3)\n",
    "predict_result = clf.predict(A)\n"
   ]
  },
  {
   "cell_type": "code",
   "execution_count": null,
   "id": "9a4935ba",
   "metadata": {},
   "outputs": [],
   "source": []
  },
  {
   "cell_type": "code",
   "execution_count": null,
   "id": "df36e184",
   "metadata": {},
   "outputs": [],
   "source": []
  },
  {
   "cell_type": "code",
   "execution_count": null,
   "id": "15ff6aad",
   "metadata": {},
   "outputs": [],
   "source": []
  }
 ],
 "metadata": {
  "kernelspec": {
   "display_name": "Python 3 (ipykernel)",
   "language": "python",
   "name": "python3"
  },
  "language_info": {
   "codemirror_mode": {
    "name": "ipython",
    "version": 3
   },
   "file_extension": ".py",
   "mimetype": "text/x-python",
   "name": "python",
   "nbconvert_exporter": "python",
   "pygments_lexer": "ipython3",
   "version": "3.9.7"
  }
 },
 "nbformat": 4,
 "nbformat_minor": 5
}
